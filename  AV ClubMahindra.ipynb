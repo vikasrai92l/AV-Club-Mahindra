{
 "cells": [
  {
   "cell_type": "code",
   "execution_count": 1,
   "metadata": {},
   "outputs": [],
   "source": [
    "import pandas as pd\n",
    "import numpy as np"
   ]
  },
  {
   "cell_type": "code",
   "execution_count": 2,
   "metadata": {},
   "outputs": [],
   "source": [
    "traindata=pd.read_csv('train/train.csv')\n",
    "testdata=pd.read_csv('test/test.csv')"
   ]
  },
  {
   "cell_type": "code",
   "execution_count": 3,
   "metadata": {},
   "outputs": [
    {
     "name": "stdout",
     "output_type": "stream",
     "text": [
      "<class 'pandas.core.frame.DataFrame'>\n",
      "RangeIndex: 341424 entries, 0 to 341423\n",
      "Data columns (total 24 columns):\n",
      "reservation_id                        341424 non-null object\n",
      "booking_date                          341424 non-null object\n",
      "checkin_date                          341424 non-null object\n",
      "checkout_date                         341424 non-null object\n",
      "channel_code                          341424 non-null int64\n",
      "main_product_code                     341424 non-null int64\n",
      "numberofadults                        341424 non-null int64\n",
      "numberofchildren                      341424 non-null int64\n",
      "persontravellingid                    341424 non-null int64\n",
      "resort_region_code                    341424 non-null int64\n",
      "resort_type_code                      341424 non-null int64\n",
      "room_type_booked_code                 341424 non-null int64\n",
      "roomnights                            341424 non-null int64\n",
      "season_holidayed_code                 341310 non-null float64\n",
      "state_code_residence                  336660 non-null float64\n",
      "state_code_resort                     341424 non-null int64\n",
      "total_pax                             341424 non-null int64\n",
      "member_age_buckets                    341424 non-null object\n",
      "booking_type_code                     341424 non-null int64\n",
      "memberid                              341424 non-null object\n",
      "cluster_code                          341424 non-null object\n",
      "reservationstatusid_code              341424 non-null object\n",
      "resort_id                             341424 non-null object\n",
      "amount_spent_per_room_night_scaled    341424 non-null float64\n",
      "dtypes: float64(3), int64(12), object(9)\n",
      "memory usage: 62.5+ MB\n"
     ]
    }
   ],
   "source": [
    "traindata.info()"
   ]
  },
  {
   "cell_type": "code",
   "execution_count": 4,
   "metadata": {},
   "outputs": [
    {
     "data": {
      "text/html": [
       "<div>\n",
       "<style scoped>\n",
       "    .dataframe tbody tr th:only-of-type {\n",
       "        vertical-align: middle;\n",
       "    }\n",
       "\n",
       "    .dataframe tbody tr th {\n",
       "        vertical-align: top;\n",
       "    }\n",
       "\n",
       "    .dataframe thead th {\n",
       "        text-align: right;\n",
       "    }\n",
       "</style>\n",
       "<table border=\"1\" class=\"dataframe\">\n",
       "  <thead>\n",
       "    <tr style=\"text-align: right;\">\n",
       "      <th></th>\n",
       "      <th>reservation_id</th>\n",
       "      <th>booking_date</th>\n",
       "      <th>checkin_date</th>\n",
       "      <th>checkout_date</th>\n",
       "      <th>channel_code</th>\n",
       "      <th>main_product_code</th>\n",
       "      <th>numberofadults</th>\n",
       "      <th>numberofchildren</th>\n",
       "      <th>persontravellingid</th>\n",
       "      <th>resort_region_code</th>\n",
       "      <th>...</th>\n",
       "      <th>state_code_residence</th>\n",
       "      <th>state_code_resort</th>\n",
       "      <th>total_pax</th>\n",
       "      <th>member_age_buckets</th>\n",
       "      <th>booking_type_code</th>\n",
       "      <th>memberid</th>\n",
       "      <th>cluster_code</th>\n",
       "      <th>reservationstatusid_code</th>\n",
       "      <th>resort_id</th>\n",
       "      <th>amount_spent_per_room_night_scaled</th>\n",
       "    </tr>\n",
       "  </thead>\n",
       "  <tbody>\n",
       "    <tr>\n",
       "      <th>0</th>\n",
       "      <td>07659f3758d8aee27f5a7e2887adeacb67021cb95ada1b...</td>\n",
       "      <td>05/04/18</td>\n",
       "      <td>05/04/18</td>\n",
       "      <td>06/04/18</td>\n",
       "      <td>3</td>\n",
       "      <td>1</td>\n",
       "      <td>2</td>\n",
       "      <td>0</td>\n",
       "      <td>46</td>\n",
       "      <td>3</td>\n",
       "      <td>...</td>\n",
       "      <td>7.0</td>\n",
       "      <td>3</td>\n",
       "      <td>3</td>\n",
       "      <td>F</td>\n",
       "      <td>1</td>\n",
       "      <td>3d1539e56495b6991f0a3ef5a61ca3d03ce4fff7380e9a...</td>\n",
       "      <td>F</td>\n",
       "      <td>C</td>\n",
       "      <td>4e07408562bedb8b60ce05c1decfe3ad16b72230967de0...</td>\n",
       "      <td>7.706428</td>\n",
       "    </tr>\n",
       "    <tr>\n",
       "      <th>1</th>\n",
       "      <td>03930f033646d073462b35d411616323597715ac4fc398...</td>\n",
       "      <td>23/01/15</td>\n",
       "      <td>11/04/15</td>\n",
       "      <td>16/04/15</td>\n",
       "      <td>1</td>\n",
       "      <td>1</td>\n",
       "      <td>2</td>\n",
       "      <td>0</td>\n",
       "      <td>46</td>\n",
       "      <td>3</td>\n",
       "      <td>...</td>\n",
       "      <td>7.0</td>\n",
       "      <td>5</td>\n",
       "      <td>2</td>\n",
       "      <td>F</td>\n",
       "      <td>1</td>\n",
       "      <td>3d1539e56495b6991f0a3ef5a61ca3d03ce4fff7380e9a...</td>\n",
       "      <td>F</td>\n",
       "      <td>A</td>\n",
       "      <td>39fa9ec190eee7b6f4dff1100d6343e10918d044c75eac...</td>\n",
       "      <td>6.662563</td>\n",
       "    </tr>\n",
       "    <tr>\n",
       "      <th>2</th>\n",
       "      <td>d145a32920e6587ad95bfe299d80c0affa268220535aaf...</td>\n",
       "      <td>28/01/15</td>\n",
       "      <td>01/02/15</td>\n",
       "      <td>05/02/15</td>\n",
       "      <td>1</td>\n",
       "      <td>1</td>\n",
       "      <td>2</td>\n",
       "      <td>0</td>\n",
       "      <td>47</td>\n",
       "      <td>1</td>\n",
       "      <td>...</td>\n",
       "      <td>7.0</td>\n",
       "      <td>1</td>\n",
       "      <td>2</td>\n",
       "      <td>F</td>\n",
       "      <td>1</td>\n",
       "      <td>3d1539e56495b6991f0a3ef5a61ca3d03ce4fff7380e9a...</td>\n",
       "      <td>E</td>\n",
       "      <td>A</td>\n",
       "      <td>535fa30d7e25dd8a49f1536779734ec8286108d115da50...</td>\n",
       "      <td>7.871602</td>\n",
       "    </tr>\n",
       "    <tr>\n",
       "      <th>3</th>\n",
       "      <td>cfd77f44811ed62f25a220b53324cdbafc662a4c9e5f04...</td>\n",
       "      <td>02/05/15</td>\n",
       "      <td>11/06/15</td>\n",
       "      <td>16/06/15</td>\n",
       "      <td>1</td>\n",
       "      <td>1</td>\n",
       "      <td>2</td>\n",
       "      <td>2</td>\n",
       "      <td>46</td>\n",
       "      <td>2</td>\n",
       "      <td>...</td>\n",
       "      <td>7.0</td>\n",
       "      <td>2</td>\n",
       "      <td>2</td>\n",
       "      <td>F</td>\n",
       "      <td>1</td>\n",
       "      <td>3d1539e56495b6991f0a3ef5a61ca3d03ce4fff7380e9a...</td>\n",
       "      <td>D</td>\n",
       "      <td>A</td>\n",
       "      <td>d4735e3a265e16eee03f59718b9b5d03019c07d8b6c51f...</td>\n",
       "      <td>5.344943</td>\n",
       "    </tr>\n",
       "    <tr>\n",
       "      <th>4</th>\n",
       "      <td>937cff9e4dcfc2459620153dfc8b9962ac22bea67dfb29...</td>\n",
       "      <td>02/09/15</td>\n",
       "      <td>14/12/15</td>\n",
       "      <td>19/12/15</td>\n",
       "      <td>1</td>\n",
       "      <td>1</td>\n",
       "      <td>2</td>\n",
       "      <td>0</td>\n",
       "      <td>46</td>\n",
       "      <td>2</td>\n",
       "      <td>...</td>\n",
       "      <td>7.0</td>\n",
       "      <td>2</td>\n",
       "      <td>2</td>\n",
       "      <td>F</td>\n",
       "      <td>1</td>\n",
       "      <td>3d1539e56495b6991f0a3ef5a61ca3d03ce4fff7380e9a...</td>\n",
       "      <td>D</td>\n",
       "      <td>A</td>\n",
       "      <td>d4735e3a265e16eee03f59718b9b5d03019c07d8b6c51f...</td>\n",
       "      <td>7.059346</td>\n",
       "    </tr>\n",
       "  </tbody>\n",
       "</table>\n",
       "<p>5 rows × 24 columns</p>\n",
       "</div>"
      ],
      "text/plain": [
       "                                      reservation_id booking_date  \\\n",
       "0  07659f3758d8aee27f5a7e2887adeacb67021cb95ada1b...     05/04/18   \n",
       "1  03930f033646d073462b35d411616323597715ac4fc398...     23/01/15   \n",
       "2  d145a32920e6587ad95bfe299d80c0affa268220535aaf...     28/01/15   \n",
       "3  cfd77f44811ed62f25a220b53324cdbafc662a4c9e5f04...     02/05/15   \n",
       "4  937cff9e4dcfc2459620153dfc8b9962ac22bea67dfb29...     02/09/15   \n",
       "\n",
       "  checkin_date checkout_date  channel_code  main_product_code  numberofadults  \\\n",
       "0     05/04/18      06/04/18             3                  1               2   \n",
       "1     11/04/15      16/04/15             1                  1               2   \n",
       "2     01/02/15      05/02/15             1                  1               2   \n",
       "3     11/06/15      16/06/15             1                  1               2   \n",
       "4     14/12/15      19/12/15             1                  1               2   \n",
       "\n",
       "   numberofchildren  persontravellingid  resort_region_code  \\\n",
       "0                 0                  46                   3   \n",
       "1                 0                  46                   3   \n",
       "2                 0                  47                   1   \n",
       "3                 2                  46                   2   \n",
       "4                 0                  46                   2   \n",
       "\n",
       "                 ...                  state_code_residence  state_code_resort  \\\n",
       "0                ...                                   7.0                  3   \n",
       "1                ...                                   7.0                  5   \n",
       "2                ...                                   7.0                  1   \n",
       "3                ...                                   7.0                  2   \n",
       "4                ...                                   7.0                  2   \n",
       "\n",
       "   total_pax  member_age_buckets  booking_type_code  \\\n",
       "0          3                   F                  1   \n",
       "1          2                   F                  1   \n",
       "2          2                   F                  1   \n",
       "3          2                   F                  1   \n",
       "4          2                   F                  1   \n",
       "\n",
       "                                            memberid  cluster_code  \\\n",
       "0  3d1539e56495b6991f0a3ef5a61ca3d03ce4fff7380e9a...             F   \n",
       "1  3d1539e56495b6991f0a3ef5a61ca3d03ce4fff7380e9a...             F   \n",
       "2  3d1539e56495b6991f0a3ef5a61ca3d03ce4fff7380e9a...             E   \n",
       "3  3d1539e56495b6991f0a3ef5a61ca3d03ce4fff7380e9a...             D   \n",
       "4  3d1539e56495b6991f0a3ef5a61ca3d03ce4fff7380e9a...             D   \n",
       "\n",
       "  reservationstatusid_code                                          resort_id  \\\n",
       "0                        C  4e07408562bedb8b60ce05c1decfe3ad16b72230967de0...   \n",
       "1                        A  39fa9ec190eee7b6f4dff1100d6343e10918d044c75eac...   \n",
       "2                        A  535fa30d7e25dd8a49f1536779734ec8286108d115da50...   \n",
       "3                        A  d4735e3a265e16eee03f59718b9b5d03019c07d8b6c51f...   \n",
       "4                        A  d4735e3a265e16eee03f59718b9b5d03019c07d8b6c51f...   \n",
       "\n",
       "  amount_spent_per_room_night_scaled  \n",
       "0                           7.706428  \n",
       "1                           6.662563  \n",
       "2                           7.871602  \n",
       "3                           5.344943  \n",
       "4                           7.059346  \n",
       "\n",
       "[5 rows x 24 columns]"
      ]
     },
     "execution_count": 4,
     "metadata": {},
     "output_type": "execute_result"
    }
   ],
   "source": [
    "traindata.head()"
   ]
  },
  {
   "cell_type": "code",
   "execution_count": 5,
   "metadata": {},
   "outputs": [
    {
     "data": {
      "text/plain": [
       "reservation_id                           0\n",
       "booking_date                             0\n",
       "checkin_date                             0\n",
       "checkout_date                            0\n",
       "channel_code                             0\n",
       "main_product_code                        0\n",
       "numberofadults                           0\n",
       "numberofchildren                         0\n",
       "persontravellingid                       0\n",
       "resort_region_code                       0\n",
       "resort_type_code                         0\n",
       "room_type_booked_code                    0\n",
       "roomnights                               0\n",
       "season_holidayed_code                  114\n",
       "state_code_residence                  4764\n",
       "state_code_resort                        0\n",
       "total_pax                                0\n",
       "member_age_buckets                       0\n",
       "booking_type_code                        0\n",
       "memberid                                 0\n",
       "cluster_code                             0\n",
       "reservationstatusid_code                 0\n",
       "resort_id                                0\n",
       "amount_spent_per_room_night_scaled       0\n",
       "dtype: int64"
      ]
     },
     "execution_count": 5,
     "metadata": {},
     "output_type": "execute_result"
    }
   ],
   "source": [
    "traindata.isnull().sum()"
   ]
  },
  {
   "cell_type": "code",
   "execution_count": 6,
   "metadata": {},
   "outputs": [
    {
     "data": {
      "text/plain": [
       "1     59830\n",
       "2     55883\n",
       "6     50869\n",
       "7     37809\n",
       "3     33489\n",
       "5     32784\n",
       "9     28115\n",
       "11    18271\n",
       "4     14820\n",
       "10     5684\n",
       "13     3870\n",
       "Name: state_code_resort, dtype: int64"
      ]
     },
     "execution_count": 6,
     "metadata": {},
     "output_type": "execute_result"
    }
   ],
   "source": [
    "traindata['state_code_resort'].value_counts()"
   ]
  },
  {
   "cell_type": "code",
   "execution_count": 7,
   "metadata": {},
   "outputs": [
    {
     "name": "stdout",
     "output_type": "stream",
     "text": [
      "Memory usage after optimization is: 29.63 MB\n",
      "Decreased by 52.6%\n",
      "Memory usage after optimization is: 12.46 MB\n",
      "Decreased by 51.6%\n"
     ]
    }
   ],
   "source": [
    "def reduce_mem_usage(df, verbose=True):\n",
    "    numerics = ['int16', 'int32', 'int64', 'float16', 'float32', 'float64']\n",
    "    start_mem = df.memory_usage().sum() / 1024**2\n",
    "    for col in df.columns:\n",
    "        col_type = df[col].dtypes\n",
    "        if col_type in numerics:\n",
    "            c_min = df[col].min()\n",
    "            c_max = df[col].max()\n",
    "            if str(col_type)[:3] == 'int':\n",
    "                if c_min > np.iinfo(np.int8).min and c_max < np.iinfo(np.int8).max:\n",
    "                    df[col] = df[col].astype(np.int8)\n",
    "                elif c_min > np.iinfo(np.int16).min and c_max < np.iinfo(np.int16).max:\n",
    "                    df[col] = df[col].astype(np.int16)\n",
    "                elif c_min > np.iinfo(np.int32).min and c_max < np.iinfo(np.int32).max:\n",
    "                    df[col] = df[col].astype(np.int32)\n",
    "                elif c_min > np.iinfo(np.int64).min and c_max < np.iinfo(np.int64).max:\n",
    "                    df[col] = df[col].astype(np.int64)\n",
    "            else:\n",
    "                if c_min > np.finfo(np.float16).min and c_max < np.finfo(np.float16).max:\n",
    "                    df[col] = df[col].astype(np.float16)\n",
    "                elif c_min > np.finfo(np.float32).min and c_max < np.finfo(np.float32).max:\n",
    "                    df[col] = df[col].astype(np.float32)\n",
    "                else:\n",
    "                    df[col] = df[col].astype(np.float64)\n",
    "\n",
    "    end_mem = df.memory_usage().sum() / 1024**2\n",
    "    print('Memory usage after optimization is: {:.2f} MB'.format(end_mem))\n",
    "    print('Decreased by {:.1f}%'.format(100 * (start_mem - end_mem) / start_mem))\n",
    "\n",
    "    return df\n",
    "traindata=reduce_mem_usage(traindata)\n",
    "testdata=reduce_mem_usage(testdata)"
   ]
  },
  {
   "cell_type": "code",
   "execution_count": 8,
   "metadata": {},
   "outputs": [
    {
     "data": {
      "text/plain": [
       "Index(['reservation_id', 'booking_date', 'checkin_date', 'checkout_date',\n",
       "       'channel_code', 'main_product_code', 'numberofadults',\n",
       "       'numberofchildren', 'persontravellingid', 'resort_region_code',\n",
       "       'resort_type_code', 'room_type_booked_code', 'roomnights',\n",
       "       'season_holidayed_code', 'state_code_residence', 'state_code_resort',\n",
       "       'total_pax', 'member_age_buckets', 'booking_type_code', 'memberid',\n",
       "       'cluster_code', 'reservationstatusid_code', 'resort_id',\n",
       "       'amount_spent_per_room_night_scaled'],\n",
       "      dtype='object')"
      ]
     },
     "execution_count": 8,
     "metadata": {},
     "output_type": "execute_result"
    }
   ],
   "source": [
    "traindata.columns"
   ]
  },
  {
   "cell_type": "code",
   "execution_count": 9,
   "metadata": {},
   "outputs": [],
   "source": [
    "traindata['booking_date']=pd.to_datetime(traindata['booking_date'],dayfirst=True)\n",
    "traindata['checkin_date']=pd.to_datetime(traindata['checkin_date'],dayfirst=True)\n",
    "traindata['checkout_date']=pd.to_datetime(traindata['checkout_date'],dayfirst=True)\n",
    "testdata['booking_date']=pd.to_datetime(testdata['booking_date'],dayfirst=True)\n",
    "testdata['checkin_date']=pd.to_datetime(testdata['checkin_date'],dayfirst=True)\n",
    "testdata['checkout_date']=pd.to_datetime(testdata['checkout_date'],dayfirst=True)"
   ]
  },
  {
   "cell_type": "code",
   "execution_count": 10,
   "metadata": {},
   "outputs": [],
   "source": [
    "traindata['stay_duration']=(traindata['checkout_date']-traindata['checkin_date']).dt.days\n",
    "traindata['advance_book']=(traindata['checkin_date']-traindata['booking_date']).dt.days\n",
    "testdata['stay_duration']=(testdata['checkout_date']-testdata['checkin_date']).dt.days\n",
    "testdata['advance_book']=(testdata['checkin_date']-testdata['booking_date']).dt.days"
   ]
  },
  {
   "cell_type": "code",
   "execution_count": 11,
   "metadata": {},
   "outputs": [
    {
     "data": {
      "text/html": [
       "<div>\n",
       "<style scoped>\n",
       "    .dataframe tbody tr th:only-of-type {\n",
       "        vertical-align: middle;\n",
       "    }\n",
       "\n",
       "    .dataframe tbody tr th {\n",
       "        vertical-align: top;\n",
       "    }\n",
       "\n",
       "    .dataframe thead th {\n",
       "        text-align: right;\n",
       "    }\n",
       "</style>\n",
       "<table border=\"1\" class=\"dataframe\">\n",
       "  <thead>\n",
       "    <tr style=\"text-align: right;\">\n",
       "      <th></th>\n",
       "      <th>booking_date</th>\n",
       "      <th>checkin_date</th>\n",
       "      <th>checkout_date</th>\n",
       "      <th>stay_duration</th>\n",
       "      <th>advance_book</th>\n",
       "    </tr>\n",
       "  </thead>\n",
       "  <tbody>\n",
       "    <tr>\n",
       "      <th>0</th>\n",
       "      <td>2018-04-05</td>\n",
       "      <td>2018-04-05</td>\n",
       "      <td>2018-04-06</td>\n",
       "      <td>1</td>\n",
       "      <td>0</td>\n",
       "    </tr>\n",
       "    <tr>\n",
       "      <th>1</th>\n",
       "      <td>2015-01-23</td>\n",
       "      <td>2015-04-11</td>\n",
       "      <td>2015-04-16</td>\n",
       "      <td>5</td>\n",
       "      <td>78</td>\n",
       "    </tr>\n",
       "    <tr>\n",
       "      <th>2</th>\n",
       "      <td>2015-01-28</td>\n",
       "      <td>2015-02-01</td>\n",
       "      <td>2015-02-05</td>\n",
       "      <td>4</td>\n",
       "      <td>4</td>\n",
       "    </tr>\n",
       "    <tr>\n",
       "      <th>3</th>\n",
       "      <td>2015-05-02</td>\n",
       "      <td>2015-06-11</td>\n",
       "      <td>2015-06-16</td>\n",
       "      <td>5</td>\n",
       "      <td>40</td>\n",
       "    </tr>\n",
       "    <tr>\n",
       "      <th>4</th>\n",
       "      <td>2015-09-02</td>\n",
       "      <td>2015-12-14</td>\n",
       "      <td>2015-12-19</td>\n",
       "      <td>5</td>\n",
       "      <td>103</td>\n",
       "    </tr>\n",
       "  </tbody>\n",
       "</table>\n",
       "</div>"
      ],
      "text/plain": [
       "  booking_date checkin_date checkout_date  stay_duration  advance_book\n",
       "0   2018-04-05   2018-04-05    2018-04-06              1             0\n",
       "1   2015-01-23   2015-04-11    2015-04-16              5            78\n",
       "2   2015-01-28   2015-02-01    2015-02-05              4             4\n",
       "3   2015-05-02   2015-06-11    2015-06-16              5            40\n",
       "4   2015-09-02   2015-12-14    2015-12-19              5           103"
      ]
     },
     "execution_count": 11,
     "metadata": {},
     "output_type": "execute_result"
    }
   ],
   "source": [
    "traindata.loc[:,['booking_date','checkin_date','checkout_date','stay_duration','advance_book']].head()"
   ]
  },
  {
   "cell_type": "code",
   "execution_count": 12,
   "metadata": {},
   "outputs": [
    {
     "data": {
      "text/html": [
       "<div>\n",
       "<style scoped>\n",
       "    .dataframe tbody tr th:only-of-type {\n",
       "        vertical-align: middle;\n",
       "    }\n",
       "\n",
       "    .dataframe tbody tr th {\n",
       "        vertical-align: top;\n",
       "    }\n",
       "\n",
       "    .dataframe thead th {\n",
       "        text-align: right;\n",
       "    }\n",
       "</style>\n",
       "<table border=\"1\" class=\"dataframe\">\n",
       "  <thead>\n",
       "    <tr style=\"text-align: right;\">\n",
       "      <th></th>\n",
       "      <th>booking_date</th>\n",
       "      <th>checkin_date</th>\n",
       "      <th>checkout_date</th>\n",
       "      <th>stay_duration</th>\n",
       "      <th>advance_book</th>\n",
       "    </tr>\n",
       "  </thead>\n",
       "  <tbody>\n",
       "    <tr>\n",
       "      <th>0</th>\n",
       "      <td>2018-04-05</td>\n",
       "      <td>2018-04-05</td>\n",
       "      <td>2018-04-06</td>\n",
       "      <td>1</td>\n",
       "      <td>0</td>\n",
       "    </tr>\n",
       "    <tr>\n",
       "      <th>1</th>\n",
       "      <td>2015-05-24</td>\n",
       "      <td>2015-06-23</td>\n",
       "      <td>2015-06-27</td>\n",
       "      <td>4</td>\n",
       "      <td>30</td>\n",
       "    </tr>\n",
       "    <tr>\n",
       "      <th>2</th>\n",
       "      <td>2015-07-21</td>\n",
       "      <td>2015-08-07</td>\n",
       "      <td>2015-08-10</td>\n",
       "      <td>3</td>\n",
       "      <td>17</td>\n",
       "    </tr>\n",
       "    <tr>\n",
       "      <th>3</th>\n",
       "      <td>2015-07-31</td>\n",
       "      <td>2015-10-22</td>\n",
       "      <td>2015-10-25</td>\n",
       "      <td>3</td>\n",
       "      <td>83</td>\n",
       "    </tr>\n",
       "    <tr>\n",
       "      <th>4</th>\n",
       "      <td>2016-07-01</td>\n",
       "      <td>2016-10-01</td>\n",
       "      <td>2016-10-05</td>\n",
       "      <td>4</td>\n",
       "      <td>92</td>\n",
       "    </tr>\n",
       "  </tbody>\n",
       "</table>\n",
       "</div>"
      ],
      "text/plain": [
       "  booking_date checkin_date checkout_date  stay_duration  advance_book\n",
       "0   2018-04-05   2018-04-05    2018-04-06              1             0\n",
       "1   2015-05-24   2015-06-23    2015-06-27              4            30\n",
       "2   2015-07-21   2015-08-07    2015-08-10              3            17\n",
       "3   2015-07-31   2015-10-22    2015-10-25              3            83\n",
       "4   2016-07-01   2016-10-01    2016-10-05              4            92"
      ]
     },
     "execution_count": 12,
     "metadata": {},
     "output_type": "execute_result"
    }
   ],
   "source": [
    "testdata.loc[:,['booking_date','checkin_date','checkout_date','stay_duration','advance_book']].head()"
   ]
  },
  {
   "cell_type": "code",
   "execution_count": 13,
   "metadata": {},
   "outputs": [],
   "source": [
    "traindata['booking_year']=traindata['booking_date'].dt.year\n",
    "traindata['booking_month']=traindata['booking_date'].dt.month\n",
    "traindata['booking_day']=traindata['booking_date'].dt.day\n",
    "traindata['checkin_year']=traindata['checkin_date'].dt.year\n",
    "traindata['checkin_month']=traindata['checkin_date'].dt.month\n",
    "traindata['checkin_day']=traindata['checkin_date'].dt.day\n",
    "traindata['checkout_year']=traindata['checkout_date'].dt.year\n",
    "traindata['checkout_month']=traindata['checkout_date'].dt.month\n",
    "traindata['checkout_day']=traindata['checkout_date'].dt.day\n",
    "\n",
    "testdata['booking_year']=testdata['booking_date'].dt.year\n",
    "testdata['booking_month']=testdata['booking_date'].dt.month\n",
    "testdata['booking_day']=testdata['booking_date'].dt.day\n",
    "testdata['checkin_year']=testdata['checkin_date'].dt.year\n",
    "testdata['checkin_month']=testdata['checkin_date'].dt.month\n",
    "testdata['checkin_day']=testdata['checkin_date'].dt.day\n",
    "testdata['checkout_year']=testdata['checkout_date'].dt.year\n",
    "testdata['checkout_month']=testdata['checkout_date'].dt.month\n",
    "testdata['checkout_day']=testdata['checkout_date'].dt.day"
   ]
  },
  {
   "cell_type": "code",
   "execution_count": 14,
   "metadata": {},
   "outputs": [
    {
     "data": {
      "text/plain": [
       "Index(['reservation_id', 'booking_date', 'checkin_date', 'checkout_date',\n",
       "       'channel_code', 'main_product_code', 'numberofadults',\n",
       "       'numberofchildren', 'persontravellingid', 'resort_region_code',\n",
       "       'resort_type_code', 'room_type_booked_code', 'roomnights',\n",
       "       'season_holidayed_code', 'state_code_residence', 'state_code_resort',\n",
       "       'total_pax', 'member_age_buckets', 'booking_type_code', 'memberid',\n",
       "       'cluster_code', 'reservationstatusid_code', 'resort_id',\n",
       "       'amount_spent_per_room_night_scaled', 'stay_duration', 'advance_book',\n",
       "       'booking_year', 'booking_month', 'booking_day', 'checkin_year',\n",
       "       'checkin_month', 'checkin_day', 'checkout_year', 'checkout_month',\n",
       "       'checkout_day'],\n",
       "      dtype='object')"
      ]
     },
     "execution_count": 14,
     "metadata": {},
     "output_type": "execute_result"
    }
   ],
   "source": [
    "traindata.columns"
   ]
  },
  {
   "cell_type": "code",
   "execution_count": 15,
   "metadata": {},
   "outputs": [
    {
     "data": {
      "text/plain": [
       "Index(['reservation_id', 'booking_date', 'checkin_date', 'checkout_date',\n",
       "       'channel_code', 'main_product_code', 'numberofadults',\n",
       "       'numberofchildren', 'persontravellingid', 'resort_region_code',\n",
       "       'resort_type_code', 'room_type_booked_code', 'roomnights',\n",
       "       'season_holidayed_code', 'state_code_residence', 'state_code_resort',\n",
       "       'total_pax', 'member_age_buckets', 'booking_type_code', 'memberid',\n",
       "       'cluster_code', 'reservationstatusid_code', 'resort_id',\n",
       "       'stay_duration', 'advance_book', 'booking_year', 'booking_month',\n",
       "       'booking_day', 'checkin_year', 'checkin_month', 'checkin_day',\n",
       "       'checkout_year', 'checkout_month', 'checkout_day'],\n",
       "      dtype='object')"
      ]
     },
     "execution_count": 15,
     "metadata": {},
     "output_type": "execute_result"
    }
   ],
   "source": [
    "testdata.columns"
   ]
  },
  {
   "cell_type": "code",
   "execution_count": 16,
   "metadata": {},
   "outputs": [
    {
     "data": {
      "text/plain": [
       "(341424, 35)"
      ]
     },
     "execution_count": 16,
     "metadata": {},
     "output_type": "execute_result"
    }
   ],
   "source": [
    "traindata.shape"
   ]
  },
  {
   "cell_type": "code",
   "execution_count": 17,
   "metadata": {},
   "outputs": [
    {
     "data": {
      "text/plain": [
       "(146765, 34)"
      ]
     },
     "execution_count": 17,
     "metadata": {},
     "output_type": "execute_result"
    }
   ],
   "source": [
    "testdata.shape"
   ]
  },
  {
   "cell_type": "code",
   "execution_count": 18,
   "metadata": {},
   "outputs": [],
   "source": [
    "traindata['channel_code']=traindata['channel_code'].astype('category')\n",
    "testdata['channel_code']=testdata['channel_code'].astype('category')\n",
    "traindata['main_product_code']=traindata['main_product_code'].astype('category')\n",
    "testdata['main_product_code']=testdata['main_product_code'].astype('category')\n",
    "traindata['persontravellingid']=traindata['persontravellingid'].astype('category')\n",
    "testdata['persontravellingid']=testdata['persontravellingid'].astype('category')\n",
    "traindata['resort_region_code']=traindata['resort_region_code'].astype('category')\n",
    "testdata['resort_region_code']=testdata['resort_region_code'].astype('category')\n",
    "traindata['resort_type_code']=traindata['resort_type_code'].astype('category')\n",
    "testdata['resort_type_code']=testdata['resort_type_code'].astype('category')\n",
    "traindata['room_type_booked_code']=traindata['room_type_booked_code'].astype('category')\n",
    "testdata['room_type_booked_code']=testdata['room_type_booked_code'].astype('category')\n",
    "traindata['season_holidayed_code']=traindata['season_holidayed_code'].astype('category')\n",
    "testdata['season_holidayed_code']=testdata['season_holidayed_code'].astype('category')\n",
    "traindata['state_code_residence']=traindata['state_code_residence'].astype('category')\n",
    "testdata['state_code_residence']=testdata['state_code_residence'].astype('category')\n",
    "traindata['state_code_resort']=traindata['state_code_resort'].astype('category')\n",
    "testdata['state_code_resort']=testdata['state_code_resort'].astype('category')\n",
    "traindata['member_age_buckets']=traindata['member_age_buckets'].astype('category')\n",
    "testdata['member_age_buckets']=testdata['member_age_buckets'].astype('category')\n",
    "traindata['booking_type_code']=traindata['booking_type_code'].astype('category')\n",
    "testdata['booking_type_code']=testdata['booking_type_code'].astype('category')\n",
    "traindata['cluster_code']=traindata['cluster_code'].astype('category')\n",
    "testdata['cluster_code']=testdata['cluster_code'].astype('category')\n",
    "traindata['reservationstatusid_code']=traindata['reservationstatusid_code'].astype('category')\n",
    "testdata['reservationstatusid_code']=testdata['reservationstatusid_code'].astype('category')\n",
    "traindata['resort_id']=traindata['resort_id'].astype('category')\n",
    "testdata['resort_id']=testdata['resort_id'].astype('category')\n",
    "traindata['booking_year']=traindata['booking_year'].astype('category')\n",
    "testdata['booking_year']=testdata['booking_year'].astype('category')\n",
    "traindata['booking_month']=traindata['booking_month'].astype('category')\n",
    "testdata['booking_month']=testdata['booking_month'].astype('category')\n",
    "traindata['booking_day']=traindata['booking_day'].astype('category')\n",
    "testdata['booking_day']=testdata['booking_day'].astype('category')\n",
    "traindata['checkin_year']=traindata['checkin_year'].astype('category')\n",
    "testdata['checkin_year']=testdata['checkin_year'].astype('category')\n",
    "traindata['checkin_month']=traindata['checkin_month'].astype('category')\n",
    "testdata['checkin_month']=testdata['checkin_month'].astype('category')\n",
    "traindata['checkin_day']=traindata['checkin_day'].astype('category')\n",
    "testdata['checkin_day']=testdata['checkin_day'].astype('category')\n",
    "traindata['checkout_year']=traindata['checkout_year'].astype('category')\n",
    "testdata['checkout_year']=testdata['checkout_year'].astype('category')\n",
    "traindata['checkout_month']=traindata['checkout_month'].astype('category')\n",
    "testdata['checkout_month']=testdata['checkout_month'].astype('category')\n",
    "traindata['checkout_day']=traindata['checkout_day'].astype('category')\n",
    "testdata['checkout_day']=testdata['checkout_day'].astype('category')\n",
    "traindata['memberid']=traindata['memberid'].astype('category')\n",
    "testdata['memberid']=testdata['memberid'].astype('category')"
   ]
  },
  {
   "cell_type": "code",
   "execution_count": 19,
   "metadata": {},
   "outputs": [],
   "source": [
    "#mode imputation\n",
    "traindata['season_holidayed_code']=traindata['season_holidayed_code'].fillna(2.0)\n",
    "traindata['state_code_residence']=traindata['state_code_residence'].fillna(8.0)\n",
    "testdata['season_holidayed_code']=testdata['season_holidayed_code'].fillna(2.0)\n",
    "testdata['state_code_residence']=testdata['state_code_residence'].fillna(8.0)"
   ]
  },
  {
   "cell_type": "code",
   "execution_count": 20,
   "metadata": {},
   "outputs": [
    {
     "name": "stderr",
     "output_type": "stream",
     "text": [
      "D:\\Users\\Vikas\\Anaconda3\\lib\\site-packages\\pandas\\core\\indexing.py:1472: FutureWarning: \n",
      "Passing list-likes to .loc or [] with any missing label will raise\n",
      "KeyError in the future, you can use .reindex() as an alternative.\n",
      "\n",
      "See the documentation here:\n",
      "https://pandas.pydata.org/pandas-docs/stable/indexing.html#deprecate-loc-reindex-listlike\n",
      "  return self._getitem_tuple(key)\n"
     ]
    },
    {
     "data": {
      "text/html": [
       "<div>\n",
       "<style scoped>\n",
       "    .dataframe tbody tr th:only-of-type {\n",
       "        vertical-align: middle;\n",
       "    }\n",
       "\n",
       "    .dataframe tbody tr th {\n",
       "        vertical-align: top;\n",
       "    }\n",
       "\n",
       "    .dataframe thead th {\n",
       "        text-align: right;\n",
       "    }\n",
       "</style>\n",
       "<table border=\"1\" class=\"dataframe\">\n",
       "  <thead>\n",
       "    <tr style=\"text-align: right;\">\n",
       "      <th></th>\n",
       "      <th>numberofadults</th>\n",
       "      <th>numberofchildren</th>\n",
       "      <th>total_pax</th>\n",
       "      <th>adult_percentage</th>\n",
       "      <th>children_percentage</th>\n",
       "      <th>noofguests</th>\n",
       "    </tr>\n",
       "  </thead>\n",
       "  <tbody>\n",
       "    <tr>\n",
       "      <th>0</th>\n",
       "      <td>2</td>\n",
       "      <td>0</td>\n",
       "      <td>3</td>\n",
       "      <td>NaN</td>\n",
       "      <td>NaN</td>\n",
       "      <td>NaN</td>\n",
       "    </tr>\n",
       "    <tr>\n",
       "      <th>1</th>\n",
       "      <td>2</td>\n",
       "      <td>0</td>\n",
       "      <td>2</td>\n",
       "      <td>NaN</td>\n",
       "      <td>NaN</td>\n",
       "      <td>NaN</td>\n",
       "    </tr>\n",
       "    <tr>\n",
       "      <th>2</th>\n",
       "      <td>2</td>\n",
       "      <td>0</td>\n",
       "      <td>2</td>\n",
       "      <td>NaN</td>\n",
       "      <td>NaN</td>\n",
       "      <td>NaN</td>\n",
       "    </tr>\n",
       "    <tr>\n",
       "      <th>3</th>\n",
       "      <td>2</td>\n",
       "      <td>2</td>\n",
       "      <td>2</td>\n",
       "      <td>NaN</td>\n",
       "      <td>NaN</td>\n",
       "      <td>NaN</td>\n",
       "    </tr>\n",
       "    <tr>\n",
       "      <th>4</th>\n",
       "      <td>2</td>\n",
       "      <td>0</td>\n",
       "      <td>2</td>\n",
       "      <td>NaN</td>\n",
       "      <td>NaN</td>\n",
       "      <td>NaN</td>\n",
       "    </tr>\n",
       "  </tbody>\n",
       "</table>\n",
       "</div>"
      ],
      "text/plain": [
       "   numberofadults  numberofchildren  total_pax  adult_percentage  \\\n",
       "0               2                 0          3               NaN   \n",
       "1               2                 0          2               NaN   \n",
       "2               2                 0          2               NaN   \n",
       "3               2                 2          2               NaN   \n",
       "4               2                 0          2               NaN   \n",
       "\n",
       "   children_percentage  noofguests  \n",
       "0                  NaN         NaN  \n",
       "1                  NaN         NaN  \n",
       "2                  NaN         NaN  \n",
       "3                  NaN         NaN  \n",
       "4                  NaN         NaN  "
      ]
     },
     "execution_count": 20,
     "metadata": {},
     "output_type": "execute_result"
    }
   ],
   "source": [
    "#Increasing features\n",
    "traindata.loc[:,['numberofadults','numberofchildren','total_pax','adult_percentage','children_percentage','noofguests']].head()"
   ]
  },
  {
   "cell_type": "code",
   "execution_count": 21,
   "metadata": {},
   "outputs": [],
   "source": [
    "import datetime\n",
    "weekDays = (\"Monday\",\"Tuesday\",\"Wednesday\",\"Thursday\",\"Friday\",\"Saturday\",\"Sunday\")\n",
    "traindata['Booking_Day']=traindata['booking_date'].apply(lambda x : weekDays[x.weekday()])\n",
    "traindata['Checkin_Day']=traindata['checkin_date'].apply(lambda x : weekDays[x.weekday()])\n",
    "traindata['Checkout_Day']=traindata['checkout_date'].apply(lambda x : weekDays[x.weekday()])\n",
    "\n",
    "testdata['Booking_Day']=testdata['booking_date'].apply(lambda x : weekDays[x.weekday()])\n",
    "testdata['Checkin_Day']=testdata['checkin_date'].apply(lambda x : weekDays[x.weekday()])\n",
    "testdata['Checkout_Day']=testdata['checkout_date'].apply(lambda x : weekDays[x.weekday()])"
   ]
  },
  {
   "cell_type": "code",
   "execution_count": 22,
   "metadata": {},
   "outputs": [],
   "source": [
    "traindata['Booking_Day']=traindata['Booking_Day'].astype('category')\n",
    "testdata['Booking_Day']=testdata['Booking_Day'].astype('category')\n",
    "traindata['Checkin_Day']=traindata['Checkin_Day'].astype('category')\n",
    "testdata['Checkin_Day']=testdata['Checkin_Day'].astype('category')\n",
    "traindata['Checkout_Day']=traindata['Checkout_Day'].astype('category')\n",
    "testdata['Checkout_Day']=testdata['Checkout_Day'].astype('category')"
   ]
  },
  {
   "cell_type": "code",
   "execution_count": 23,
   "metadata": {},
   "outputs": [],
   "source": [
    "traindata['adult_percentage']=traindata['numberofadults']/traindata['total_pax']\n",
    "traindata['children_percentage']=traindata['numberofchildren']/traindata['total_pax']\n",
    "traindata['noofguests']=traindata['total_pax']-(traindata['numberofadults']+traindata['numberofchildren'])\n",
    "\n",
    "testdata['adult_percentage']=testdata['numberofadults']/testdata['total_pax']\n",
    "testdata['children_percentage']=testdata['numberofchildren']/testdata['total_pax']\n",
    "testdata['noofguests']=testdata['total_pax']-(testdata['numberofadults']+testdata['numberofchildren'])"
   ]
  },
  {
   "cell_type": "code",
   "execution_count": 24,
   "metadata": {},
   "outputs": [
    {
     "name": "stdout",
     "output_type": "stream",
     "text": [
      "<class 'pandas.core.frame.DataFrame'>\n",
      "RangeIndex: 341424 entries, 0 to 341423\n",
      "Data columns (total 41 columns):\n",
      "reservation_id                        341424 non-null object\n",
      "booking_date                          341424 non-null datetime64[ns]\n",
      "checkin_date                          341424 non-null datetime64[ns]\n",
      "checkout_date                         341424 non-null datetime64[ns]\n",
      "channel_code                          341424 non-null category\n",
      "main_product_code                     341424 non-null category\n",
      "numberofadults                        341424 non-null int8\n",
      "numberofchildren                      341424 non-null int8\n",
      "persontravellingid                    341424 non-null category\n",
      "resort_region_code                    341424 non-null category\n",
      "resort_type_code                      341424 non-null category\n",
      "room_type_booked_code                 341424 non-null category\n",
      "roomnights                            341424 non-null int8\n",
      "season_holidayed_code                 341424 non-null category\n",
      "state_code_residence                  341424 non-null category\n",
      "state_code_resort                     341424 non-null category\n",
      "total_pax                             341424 non-null int8\n",
      "member_age_buckets                    341424 non-null category\n",
      "booking_type_code                     341424 non-null category\n",
      "memberid                              341424 non-null category\n",
      "cluster_code                          341424 non-null category\n",
      "reservationstatusid_code              341424 non-null category\n",
      "resort_id                             341424 non-null category\n",
      "amount_spent_per_room_night_scaled    341424 non-null float16\n",
      "stay_duration                         341424 non-null int64\n",
      "advance_book                          341424 non-null int64\n",
      "booking_year                          341424 non-null category\n",
      "booking_month                         341424 non-null category\n",
      "booking_day                           341424 non-null category\n",
      "checkin_year                          341424 non-null category\n",
      "checkin_month                         341424 non-null category\n",
      "checkin_day                           341424 non-null category\n",
      "checkout_year                         341424 non-null category\n",
      "checkout_month                        341424 non-null category\n",
      "checkout_day                          341424 non-null category\n",
      "Booking_Day                           341424 non-null category\n",
      "Checkin_Day                           341424 non-null category\n",
      "Checkout_Day                          341424 non-null category\n",
      "adult_percentage                      341424 non-null float64\n",
      "children_percentage                   341414 non-null float64\n",
      "noofguests                            341424 non-null int8\n",
      "dtypes: category(27), datetime64[ns](3), float16(1), float64(2), int64(2), int8(5), object(1)\n",
      "memory usage: 38.7+ MB\n"
     ]
    }
   ],
   "source": [
    "traindata.info()"
   ]
  },
  {
   "cell_type": "code",
   "execution_count": 25,
   "metadata": {},
   "outputs": [
    {
     "data": {
      "text/plain": [
       "(146765, 40)"
      ]
     },
     "execution_count": 25,
     "metadata": {},
     "output_type": "execute_result"
    }
   ],
   "source": [
    "testdata.shape"
   ]
  },
  {
   "cell_type": "code",
   "execution_count": 26,
   "metadata": {},
   "outputs": [
    {
     "data": {
      "text/html": [
       "<div>\n",
       "<style scoped>\n",
       "    .dataframe tbody tr th:only-of-type {\n",
       "        vertical-align: middle;\n",
       "    }\n",
       "\n",
       "    .dataframe tbody tr th {\n",
       "        vertical-align: top;\n",
       "    }\n",
       "\n",
       "    .dataframe thead th {\n",
       "        text-align: right;\n",
       "    }\n",
       "</style>\n",
       "<table border=\"1\" class=\"dataframe\">\n",
       "  <thead>\n",
       "    <tr style=\"text-align: right;\">\n",
       "      <th></th>\n",
       "      <th>numberofadults</th>\n",
       "      <th>numberofchildren</th>\n",
       "      <th>persontravellingid</th>\n",
       "      <th>roomnights</th>\n",
       "      <th>total_pax</th>\n",
       "    </tr>\n",
       "  </thead>\n",
       "  <tbody>\n",
       "    <tr>\n",
       "      <th>0</th>\n",
       "      <td>2</td>\n",
       "      <td>0</td>\n",
       "      <td>46</td>\n",
       "      <td>1</td>\n",
       "      <td>3</td>\n",
       "    </tr>\n",
       "    <tr>\n",
       "      <th>1</th>\n",
       "      <td>2</td>\n",
       "      <td>0</td>\n",
       "      <td>46</td>\n",
       "      <td>5</td>\n",
       "      <td>2</td>\n",
       "    </tr>\n",
       "    <tr>\n",
       "      <th>2</th>\n",
       "      <td>2</td>\n",
       "      <td>0</td>\n",
       "      <td>47</td>\n",
       "      <td>4</td>\n",
       "      <td>2</td>\n",
       "    </tr>\n",
       "    <tr>\n",
       "      <th>3</th>\n",
       "      <td>2</td>\n",
       "      <td>2</td>\n",
       "      <td>46</td>\n",
       "      <td>5</td>\n",
       "      <td>2</td>\n",
       "    </tr>\n",
       "    <tr>\n",
       "      <th>4</th>\n",
       "      <td>2</td>\n",
       "      <td>0</td>\n",
       "      <td>46</td>\n",
       "      <td>5</td>\n",
       "      <td>2</td>\n",
       "    </tr>\n",
       "    <tr>\n",
       "      <th>5</th>\n",
       "      <td>2</td>\n",
       "      <td>0</td>\n",
       "      <td>47</td>\n",
       "      <td>2</td>\n",
       "      <td>2</td>\n",
       "    </tr>\n",
       "    <tr>\n",
       "      <th>6</th>\n",
       "      <td>2</td>\n",
       "      <td>0</td>\n",
       "      <td>46</td>\n",
       "      <td>1</td>\n",
       "      <td>1</td>\n",
       "    </tr>\n",
       "    <tr>\n",
       "      <th>7</th>\n",
       "      <td>2</td>\n",
       "      <td>2</td>\n",
       "      <td>46</td>\n",
       "      <td>5</td>\n",
       "      <td>4</td>\n",
       "    </tr>\n",
       "    <tr>\n",
       "      <th>8</th>\n",
       "      <td>2</td>\n",
       "      <td>0</td>\n",
       "      <td>45</td>\n",
       "      <td>6</td>\n",
       "      <td>2</td>\n",
       "    </tr>\n",
       "    <tr>\n",
       "      <th>9</th>\n",
       "      <td>2</td>\n",
       "      <td>0</td>\n",
       "      <td>45</td>\n",
       "      <td>4</td>\n",
       "      <td>2</td>\n",
       "    </tr>\n",
       "  </tbody>\n",
       "</table>\n",
       "</div>"
      ],
      "text/plain": [
       "   numberofadults  numberofchildren persontravellingid  roomnights  total_pax\n",
       "0               2                 0                 46           1          3\n",
       "1               2                 0                 46           5          2\n",
       "2               2                 0                 47           4          2\n",
       "3               2                 2                 46           5          2\n",
       "4               2                 0                 46           5          2\n",
       "5               2                 0                 47           2          2\n",
       "6               2                 0                 46           1          1\n",
       "7               2                 2                 46           5          4\n",
       "8               2                 0                 45           6          2\n",
       "9               2                 0                 45           4          2"
      ]
     },
     "execution_count": 26,
     "metadata": {},
     "output_type": "execute_result"
    }
   ],
   "source": [
    "traindata.loc[:,['numberofadults','numberofchildren','persontravellingid','roomnights','total_pax']].head(10)"
   ]
  },
  {
   "cell_type": "code",
   "execution_count": 27,
   "metadata": {},
   "outputs": [
    {
     "data": {
      "text/plain": [
       "(341424, 41)"
      ]
     },
     "execution_count": 27,
     "metadata": {},
     "output_type": "execute_result"
    }
   ],
   "source": [
    "traindata.shape"
   ]
  },
  {
   "cell_type": "code",
   "execution_count": 28,
   "metadata": {},
   "outputs": [],
   "source": [
    "mtraindata=traindata.copy()\n",
    "mtestdata=testdata.copy()"
   ]
  },
  {
   "cell_type": "code",
   "execution_count": 29,
   "metadata": {},
   "outputs": [
    {
     "data": {
      "text/plain": [
       "(146765, 40)"
      ]
     },
     "execution_count": 29,
     "metadata": {},
     "output_type": "execute_result"
    }
   ],
   "source": [
    "mtestdata.shape"
   ]
  },
  {
   "cell_type": "code",
   "execution_count": 30,
   "metadata": {},
   "outputs": [],
   "source": [
    "a=traindata.groupby('resort_id')['amount_spent_per_room_night_scaled'].mean().reset_index(name ='Resort Average')\n",
    "a=pd.DataFrame(a)\n",
    "b=traindata.groupby('resort_id')['amount_spent_per_room_night_scaled'].max().reset_index(name ='Resort Max')\n",
    "b=pd.DataFrame(b)\n",
    "c=traindata.groupby('resort_id')['amount_spent_per_room_night_scaled'].sum().reset_index(name ='Resort Sum')\n",
    "c=pd.DataFrame(c)\n",
    "mtraindata=pd.merge(mtraindata,a,how='inner',on='resort_id')\n",
    "mtestdata=pd.merge(mtestdata,a,how='inner',on='resort_id')\n",
    "mtraindata=pd.merge(mtraindata,b,how='inner',on='resort_id')\n",
    "mtestdata=pd.merge(mtestdata,b,how='inner',on='resort_id')\n",
    "mtraindata=pd.merge(mtraindata,c,how='inner',on='resort_id')\n",
    "mtestdata=pd.merge(mtestdata,c,how='inner',on='resort_id')"
   ]
  },
  {
   "cell_type": "code",
   "execution_count": 31,
   "metadata": {},
   "outputs": [
    {
     "data": {
      "text/plain": [
       "(341424, 44)"
      ]
     },
     "execution_count": 31,
     "metadata": {},
     "output_type": "execute_result"
    }
   ],
   "source": [
    "mtraindata.shape"
   ]
  },
  {
   "cell_type": "code",
   "execution_count": 32,
   "metadata": {},
   "outputs": [
    {
     "name": "stdout",
     "output_type": "stream",
     "text": [
      "<class 'pandas.core.frame.DataFrame'>\n",
      "Int64Index: 341424 entries, 0 to 341423\n",
      "Data columns (total 44 columns):\n",
      "reservation_id                        341424 non-null object\n",
      "booking_date                          341424 non-null datetime64[ns]\n",
      "checkin_date                          341424 non-null datetime64[ns]\n",
      "checkout_date                         341424 non-null datetime64[ns]\n",
      "channel_code                          341424 non-null category\n",
      "main_product_code                     341424 non-null category\n",
      "numberofadults                        341424 non-null int8\n",
      "numberofchildren                      341424 non-null int8\n",
      "persontravellingid                    341424 non-null category\n",
      "resort_region_code                    341424 non-null category\n",
      "resort_type_code                      341424 non-null category\n",
      "room_type_booked_code                 341424 non-null category\n",
      "roomnights                            341424 non-null int8\n",
      "season_holidayed_code                 341424 non-null category\n",
      "state_code_residence                  341424 non-null category\n",
      "state_code_resort                     341424 non-null category\n",
      "total_pax                             341424 non-null int8\n",
      "member_age_buckets                    341424 non-null category\n",
      "booking_type_code                     341424 non-null category\n",
      "memberid                              341424 non-null category\n",
      "cluster_code                          341424 non-null category\n",
      "reservationstatusid_code              341424 non-null category\n",
      "resort_id                             341424 non-null category\n",
      "amount_spent_per_room_night_scaled    341424 non-null float16\n",
      "stay_duration                         341424 non-null int64\n",
      "advance_book                          341424 non-null int64\n",
      "booking_year                          341424 non-null category\n",
      "booking_month                         341424 non-null category\n",
      "booking_day                           341424 non-null category\n",
      "checkin_year                          341424 non-null category\n",
      "checkin_month                         341424 non-null category\n",
      "checkin_day                           341424 non-null category\n",
      "checkout_year                         341424 non-null category\n",
      "checkout_month                        341424 non-null category\n",
      "checkout_day                          341424 non-null category\n",
      "Booking_Day                           341424 non-null category\n",
      "Checkin_Day                           341424 non-null category\n",
      "Checkout_Day                          341424 non-null category\n",
      "adult_percentage                      341424 non-null float64\n",
      "children_percentage                   341414 non-null float64\n",
      "noofguests                            341424 non-null int8\n",
      "Resort Average                        341424 non-null float16\n",
      "Resort Max                            341424 non-null float16\n",
      "Resort Sum                            341424 non-null float16\n",
      "dtypes: category(27), datetime64[ns](3), float16(4), float64(2), int64(2), int8(5), object(1)\n",
      "memory usage: 43.2+ MB\n"
     ]
    }
   ],
   "source": [
    "mtraindata.info()"
   ]
  },
  {
   "cell_type": "code",
   "execution_count": 33,
   "metadata": {},
   "outputs": [
    {
     "data": {
      "text/html": [
       "<div>\n",
       "<style scoped>\n",
       "    .dataframe tbody tr th:only-of-type {\n",
       "        vertical-align: middle;\n",
       "    }\n",
       "\n",
       "    .dataframe tbody tr th {\n",
       "        vertical-align: top;\n",
       "    }\n",
       "\n",
       "    .dataframe thead th {\n",
       "        text-align: right;\n",
       "    }\n",
       "</style>\n",
       "<table border=\"1\" class=\"dataframe\">\n",
       "  <thead>\n",
       "    <tr style=\"text-align: right;\">\n",
       "      <th></th>\n",
       "      <th>numberofadults</th>\n",
       "      <th>numberofchildren</th>\n",
       "      <th>roomnights</th>\n",
       "      <th>total_pax</th>\n",
       "      <th>amount_spent_per_room_night_scaled</th>\n",
       "      <th>stay_duration</th>\n",
       "      <th>advance_book</th>\n",
       "      <th>adult_percentage</th>\n",
       "      <th>children_percentage</th>\n",
       "      <th>noofguests</th>\n",
       "      <th>Resort Average</th>\n",
       "      <th>Resort Max</th>\n",
       "      <th>Resort Sum</th>\n",
       "    </tr>\n",
       "  </thead>\n",
       "  <tbody>\n",
       "    <tr>\n",
       "      <th>numberofadults</th>\n",
       "      <td>1.000000</td>\n",
       "      <td>-0.046198</td>\n",
       "      <td>0.570278</td>\n",
       "      <td>0.100545</td>\n",
       "      <td>0.150044</td>\n",
       "      <td>-0.007725</td>\n",
       "      <td>0.085121</td>\n",
       "      <td>0.753173</td>\n",
       "      <td>-0.026982</td>\n",
       "      <td>-0.788340</td>\n",
       "      <td>0.075078</td>\n",
       "      <td>0.068488</td>\n",
       "      <td>0.033286</td>\n",
       "    </tr>\n",
       "    <tr>\n",
       "      <th>numberofchildren</th>\n",
       "      <td>-0.046198</td>\n",
       "      <td>1.000000</td>\n",
       "      <td>0.092463</td>\n",
       "      <td>0.197066</td>\n",
       "      <td>0.047822</td>\n",
       "      <td>0.063890</td>\n",
       "      <td>0.098084</td>\n",
       "      <td>-0.122849</td>\n",
       "      <td>0.923694</td>\n",
       "      <td>-0.219624</td>\n",
       "      <td>-0.014309</td>\n",
       "      <td>0.025400</td>\n",
       "      <td>0.039288</td>\n",
       "    </tr>\n",
       "    <tr>\n",
       "      <th>roomnights</th>\n",
       "      <td>0.570278</td>\n",
       "      <td>0.092463</td>\n",
       "      <td>1.000000</td>\n",
       "      <td>-0.116305</td>\n",
       "      <td>0.050373</td>\n",
       "      <td>0.459754</td>\n",
       "      <td>0.239508</td>\n",
       "      <td>0.560939</td>\n",
       "      <td>0.128778</td>\n",
       "      <td>-0.593535</td>\n",
       "      <td>-0.010982</td>\n",
       "      <td>0.015126</td>\n",
       "      <td>-0.068758</td>\n",
       "    </tr>\n",
       "    <tr>\n",
       "      <th>total_pax</th>\n",
       "      <td>0.100545</td>\n",
       "      <td>0.197066</td>\n",
       "      <td>-0.116305</td>\n",
       "      <td>1.000000</td>\n",
       "      <td>0.143055</td>\n",
       "      <td>0.020882</td>\n",
       "      <td>0.044040</td>\n",
       "      <td>-0.433811</td>\n",
       "      <td>0.061447</td>\n",
       "      <td>0.413868</td>\n",
       "      <td>0.051984</td>\n",
       "      <td>0.092613</td>\n",
       "      <td>0.092815</td>\n",
       "    </tr>\n",
       "    <tr>\n",
       "      <th>amount_spent_per_room_night_scaled</th>\n",
       "      <td>0.150044</td>\n",
       "      <td>0.047822</td>\n",
       "      <td>0.050373</td>\n",
       "      <td>0.143055</td>\n",
       "      <td>1.000000</td>\n",
       "      <td>-0.198802</td>\n",
       "      <td>-0.033976</td>\n",
       "      <td>0.048428</td>\n",
       "      <td>0.033082</td>\n",
       "      <td>-0.065223</td>\n",
       "      <td>0.198339</td>\n",
       "      <td>0.087681</td>\n",
       "      <td>0.057040</td>\n",
       "    </tr>\n",
       "    <tr>\n",
       "      <th>stay_duration</th>\n",
       "      <td>-0.007725</td>\n",
       "      <td>0.063890</td>\n",
       "      <td>0.459754</td>\n",
       "      <td>0.020882</td>\n",
       "      <td>-0.198802</td>\n",
       "      <td>1.000000</td>\n",
       "      <td>0.302765</td>\n",
       "      <td>-0.018322</td>\n",
       "      <td>0.055041</td>\n",
       "      <td>-0.005151</td>\n",
       "      <td>-0.043961</td>\n",
       "      <td>0.037485</td>\n",
       "      <td>-0.076074</td>\n",
       "    </tr>\n",
       "    <tr>\n",
       "      <th>advance_book</th>\n",
       "      <td>0.085121</td>\n",
       "      <td>0.098084</td>\n",
       "      <td>0.239508</td>\n",
       "      <td>0.044040</td>\n",
       "      <td>-0.033976</td>\n",
       "      <td>0.302765</td>\n",
       "      <td>1.000000</td>\n",
       "      <td>0.052060</td>\n",
       "      <td>0.091977</td>\n",
       "      <td>-0.084750</td>\n",
       "      <td>-0.059773</td>\n",
       "      <td>-0.019404</td>\n",
       "      <td>0.032552</td>\n",
       "    </tr>\n",
       "    <tr>\n",
       "      <th>adult_percentage</th>\n",
       "      <td>0.753173</td>\n",
       "      <td>-0.122849</td>\n",
       "      <td>0.560939</td>\n",
       "      <td>-0.433811</td>\n",
       "      <td>0.048428</td>\n",
       "      <td>-0.018322</td>\n",
       "      <td>0.052060</td>\n",
       "      <td>1.000000</td>\n",
       "      <td>-0.027181</td>\n",
       "      <td>-0.853451</td>\n",
       "      <td>0.033362</td>\n",
       "      <td>0.004164</td>\n",
       "      <td>-0.020909</td>\n",
       "    </tr>\n",
       "    <tr>\n",
       "      <th>children_percentage</th>\n",
       "      <td>-0.026982</td>\n",
       "      <td>0.923694</td>\n",
       "      <td>0.128778</td>\n",
       "      <td>0.061447</td>\n",
       "      <td>0.033082</td>\n",
       "      <td>0.055041</td>\n",
       "      <td>0.091977</td>\n",
       "      <td>-0.027181</td>\n",
       "      <td>1.000000</td>\n",
       "      <td>-0.285638</td>\n",
       "      <td>-0.019896</td>\n",
       "      <td>0.011476</td>\n",
       "      <td>0.027258</td>\n",
       "    </tr>\n",
       "    <tr>\n",
       "      <th>noofguests</th>\n",
       "      <td>-0.788340</td>\n",
       "      <td>-0.219624</td>\n",
       "      <td>-0.593535</td>\n",
       "      <td>0.413868</td>\n",
       "      <td>-0.065223</td>\n",
       "      <td>-0.005151</td>\n",
       "      <td>-0.084750</td>\n",
       "      <td>-0.853451</td>\n",
       "      <td>-0.285638</td>\n",
       "      <td>1.000000</td>\n",
       "      <td>-0.029637</td>\n",
       "      <td>-0.015420</td>\n",
       "      <td>0.009181</td>\n",
       "    </tr>\n",
       "    <tr>\n",
       "      <th>Resort Average</th>\n",
       "      <td>0.075078</td>\n",
       "      <td>-0.014309</td>\n",
       "      <td>-0.010982</td>\n",
       "      <td>0.051984</td>\n",
       "      <td>0.198339</td>\n",
       "      <td>-0.043961</td>\n",
       "      <td>-0.059773</td>\n",
       "      <td>0.033362</td>\n",
       "      <td>-0.019896</td>\n",
       "      <td>-0.029637</td>\n",
       "      <td>1.000000</td>\n",
       "      <td>0.442083</td>\n",
       "      <td>0.315093</td>\n",
       "    </tr>\n",
       "    <tr>\n",
       "      <th>Resort Max</th>\n",
       "      <td>0.068488</td>\n",
       "      <td>0.025400</td>\n",
       "      <td>0.015126</td>\n",
       "      <td>0.092613</td>\n",
       "      <td>0.087681</td>\n",
       "      <td>0.037485</td>\n",
       "      <td>-0.019404</td>\n",
       "      <td>0.004164</td>\n",
       "      <td>0.011476</td>\n",
       "      <td>-0.015420</td>\n",
       "      <td>0.442083</td>\n",
       "      <td>1.000000</td>\n",
       "      <td>0.483464</td>\n",
       "    </tr>\n",
       "    <tr>\n",
       "      <th>Resort Sum</th>\n",
       "      <td>0.033286</td>\n",
       "      <td>0.039288</td>\n",
       "      <td>-0.068758</td>\n",
       "      <td>0.092815</td>\n",
       "      <td>0.057040</td>\n",
       "      <td>-0.076074</td>\n",
       "      <td>0.032552</td>\n",
       "      <td>-0.020909</td>\n",
       "      <td>0.027258</td>\n",
       "      <td>0.009181</td>\n",
       "      <td>0.315093</td>\n",
       "      <td>0.483464</td>\n",
       "      <td>1.000000</td>\n",
       "    </tr>\n",
       "  </tbody>\n",
       "</table>\n",
       "</div>"
      ],
      "text/plain": [
       "                                    numberofadults  numberofchildren  \\\n",
       "numberofadults                            1.000000         -0.046198   \n",
       "numberofchildren                         -0.046198          1.000000   \n",
       "roomnights                                0.570278          0.092463   \n",
       "total_pax                                 0.100545          0.197066   \n",
       "amount_spent_per_room_night_scaled        0.150044          0.047822   \n",
       "stay_duration                            -0.007725          0.063890   \n",
       "advance_book                              0.085121          0.098084   \n",
       "adult_percentage                          0.753173         -0.122849   \n",
       "children_percentage                      -0.026982          0.923694   \n",
       "noofguests                               -0.788340         -0.219624   \n",
       "Resort Average                            0.075078         -0.014309   \n",
       "Resort Max                                0.068488          0.025400   \n",
       "Resort Sum                                0.033286          0.039288   \n",
       "\n",
       "                                    roomnights  total_pax  \\\n",
       "numberofadults                        0.570278   0.100545   \n",
       "numberofchildren                      0.092463   0.197066   \n",
       "roomnights                            1.000000  -0.116305   \n",
       "total_pax                            -0.116305   1.000000   \n",
       "amount_spent_per_room_night_scaled    0.050373   0.143055   \n",
       "stay_duration                         0.459754   0.020882   \n",
       "advance_book                          0.239508   0.044040   \n",
       "adult_percentage                      0.560939  -0.433811   \n",
       "children_percentage                   0.128778   0.061447   \n",
       "noofguests                           -0.593535   0.413868   \n",
       "Resort Average                       -0.010982   0.051984   \n",
       "Resort Max                            0.015126   0.092613   \n",
       "Resort Sum                           -0.068758   0.092815   \n",
       "\n",
       "                                    amount_spent_per_room_night_scaled  \\\n",
       "numberofadults                                                0.150044   \n",
       "numberofchildren                                              0.047822   \n",
       "roomnights                                                    0.050373   \n",
       "total_pax                                                     0.143055   \n",
       "amount_spent_per_room_night_scaled                            1.000000   \n",
       "stay_duration                                                -0.198802   \n",
       "advance_book                                                 -0.033976   \n",
       "adult_percentage                                              0.048428   \n",
       "children_percentage                                           0.033082   \n",
       "noofguests                                                   -0.065223   \n",
       "Resort Average                                                0.198339   \n",
       "Resort Max                                                    0.087681   \n",
       "Resort Sum                                                    0.057040   \n",
       "\n",
       "                                    stay_duration  advance_book  \\\n",
       "numberofadults                          -0.007725      0.085121   \n",
       "numberofchildren                         0.063890      0.098084   \n",
       "roomnights                               0.459754      0.239508   \n",
       "total_pax                                0.020882      0.044040   \n",
       "amount_spent_per_room_night_scaled      -0.198802     -0.033976   \n",
       "stay_duration                            1.000000      0.302765   \n",
       "advance_book                             0.302765      1.000000   \n",
       "adult_percentage                        -0.018322      0.052060   \n",
       "children_percentage                      0.055041      0.091977   \n",
       "noofguests                              -0.005151     -0.084750   \n",
       "Resort Average                          -0.043961     -0.059773   \n",
       "Resort Max                               0.037485     -0.019404   \n",
       "Resort Sum                              -0.076074      0.032552   \n",
       "\n",
       "                                    adult_percentage  children_percentage  \\\n",
       "numberofadults                              0.753173            -0.026982   \n",
       "numberofchildren                           -0.122849             0.923694   \n",
       "roomnights                                  0.560939             0.128778   \n",
       "total_pax                                  -0.433811             0.061447   \n",
       "amount_spent_per_room_night_scaled          0.048428             0.033082   \n",
       "stay_duration                              -0.018322             0.055041   \n",
       "advance_book                                0.052060             0.091977   \n",
       "adult_percentage                            1.000000            -0.027181   \n",
       "children_percentage                        -0.027181             1.000000   \n",
       "noofguests                                 -0.853451            -0.285638   \n",
       "Resort Average                              0.033362            -0.019896   \n",
       "Resort Max                                  0.004164             0.011476   \n",
       "Resort Sum                                 -0.020909             0.027258   \n",
       "\n",
       "                                    noofguests  Resort Average  Resort Max  \\\n",
       "numberofadults                       -0.788340        0.075078    0.068488   \n",
       "numberofchildren                     -0.219624       -0.014309    0.025400   \n",
       "roomnights                           -0.593535       -0.010982    0.015126   \n",
       "total_pax                             0.413868        0.051984    0.092613   \n",
       "amount_spent_per_room_night_scaled   -0.065223        0.198339    0.087681   \n",
       "stay_duration                        -0.005151       -0.043961    0.037485   \n",
       "advance_book                         -0.084750       -0.059773   -0.019404   \n",
       "adult_percentage                     -0.853451        0.033362    0.004164   \n",
       "children_percentage                  -0.285638       -0.019896    0.011476   \n",
       "noofguests                            1.000000       -0.029637   -0.015420   \n",
       "Resort Average                       -0.029637        1.000000    0.442083   \n",
       "Resort Max                           -0.015420        0.442083    1.000000   \n",
       "Resort Sum                            0.009181        0.315093    0.483464   \n",
       "\n",
       "                                    Resort Sum  \n",
       "numberofadults                        0.033286  \n",
       "numberofchildren                      0.039288  \n",
       "roomnights                           -0.068758  \n",
       "total_pax                             0.092815  \n",
       "amount_spent_per_room_night_scaled    0.057040  \n",
       "stay_duration                        -0.076074  \n",
       "advance_book                          0.032552  \n",
       "adult_percentage                     -0.020909  \n",
       "children_percentage                   0.027258  \n",
       "noofguests                            0.009181  \n",
       "Resort Average                        0.315093  \n",
       "Resort Max                            0.483464  \n",
       "Resort Sum                            1.000000  "
      ]
     },
     "execution_count": 33,
     "metadata": {},
     "output_type": "execute_result"
    }
   ],
   "source": [
    "mtraindata.corr()"
   ]
  },
  {
   "cell_type": "code",
   "execution_count": 34,
   "metadata": {},
   "outputs": [],
   "source": [
    "dtrain=mtraindata.copy()\n",
    "dtest=mtestdata.copy()"
   ]
  },
  {
   "cell_type": "code",
   "execution_count": 35,
   "metadata": {},
   "outputs": [
    {
     "data": {
      "text/plain": [
       "(146765, 43)"
      ]
     },
     "execution_count": 35,
     "metadata": {},
     "output_type": "execute_result"
    }
   ],
   "source": [
    "dtest.shape"
   ]
  },
  {
   "cell_type": "code",
   "execution_count": 36,
   "metadata": {},
   "outputs": [
    {
     "data": {
      "text/plain": [
       "(341424, 44)"
      ]
     },
     "execution_count": 36,
     "metadata": {},
     "output_type": "execute_result"
    }
   ],
   "source": [
    "dtrain.shape"
   ]
  },
  {
   "cell_type": "code",
   "execution_count": 37,
   "metadata": {},
   "outputs": [
    {
     "data": {
      "text/plain": [
       "\"del dtest['reservationstatusid_code']\\ndel dtest['checkin_year']\\ndel dtest['cluster_code']\\ndel dtest['resort_region_code']\\ndel dtest['booking_type_code']\\ndel dtest['channel_code']\\ndel dtest['checkin_day']\\ndel dtest['booking_month']\\ndel dtest['checkout_day']\\ndel dtest['resort_type_code']\\ndel dtest['room_type_booked_code']\\ndel dtest['checkin_month']\""
      ]
     },
     "execution_count": 37,
     "metadata": {},
     "output_type": "execute_result"
    }
   ],
   "source": [
    "del dtrain['booking_date']\n",
    "del dtrain['checkin_date']\n",
    "del dtrain['checkout_date']\n",
    "del dtrain['reservation_id']\n",
    "del dtrain['memberid']\n",
    "del dtrain['Resort Max']\n",
    "del dtrain['Resort Sum']\n",
    "del dtrain['numberofadults']\n",
    "del dtrain['numberofchildren']\n",
    "#del dtrain['reservationstatusid_code']\n",
    "#del dtrain['checkin_year']\n",
    "#del dtrain['cluster_code']\n",
    "'''del dtrain['resort_region_code']\n",
    "del dtrain['booking_type_code']\n",
    "del dtrain['channel_code']\n",
    "del dtrain['checkin_day']\n",
    "del dtrain['booking_month']\n",
    "del dtrain['checkout_day']\n",
    "del dtrain['resort_type_code']\n",
    "del dtrain['room_type_booked_code']\n",
    "del dtrain['checkin_month']'''\n",
    "\n",
    "del dtest['booking_date']\n",
    "del dtest['checkin_date']\n",
    "del dtest['checkout_date']\n",
    "del dtest['reservation_id']\n",
    "del dtest['memberid']\n",
    "del dtest['Resort Max']\n",
    "del dtest['Resort Sum']\n",
    "del dtest['numberofadults']\n",
    "del dtest['numberofchildren']\n",
    "'''del dtest['reservationstatusid_code']\n",
    "del dtest['checkin_year']\n",
    "del dtest['cluster_code']\n",
    "del dtest['resort_region_code']\n",
    "del dtest['booking_type_code']\n",
    "del dtest['channel_code']\n",
    "del dtest['checkin_day']\n",
    "del dtest['booking_month']\n",
    "del dtest['checkout_day']\n",
    "del dtest['resort_type_code']\n",
    "del dtest['room_type_booked_code']\n",
    "del dtest['checkin_month']'''"
   ]
  },
  {
   "cell_type": "code",
   "execution_count": 38,
   "metadata": {},
   "outputs": [
    {
     "data": {
      "text/plain": [
       "Index(['channel_code', 'main_product_code', 'persontravellingid',\n",
       "       'resort_region_code', 'resort_type_code', 'room_type_booked_code',\n",
       "       'roomnights', 'season_holidayed_code', 'state_code_residence',\n",
       "       'state_code_resort', 'total_pax', 'member_age_buckets',\n",
       "       'booking_type_code', 'cluster_code', 'reservationstatusid_code',\n",
       "       'resort_id', 'amount_spent_per_room_night_scaled', 'stay_duration',\n",
       "       'advance_book', 'booking_year', 'booking_month', 'booking_day',\n",
       "       'checkin_year', 'checkin_month', 'checkin_day', 'checkout_year',\n",
       "       'checkout_month', 'checkout_day', 'Booking_Day', 'Checkin_Day',\n",
       "       'Checkout_Day', 'adult_percentage', 'children_percentage', 'noofguests',\n",
       "       'Resort Average'],\n",
       "      dtype='object')"
      ]
     },
     "execution_count": 38,
     "metadata": {},
     "output_type": "execute_result"
    }
   ],
   "source": [
    "dtrain.columns"
   ]
  },
  {
   "cell_type": "code",
   "execution_count": 39,
   "metadata": {},
   "outputs": [],
   "source": [
    "Y=dtrain['amount_spent_per_room_night_scaled']"
   ]
  },
  {
   "cell_type": "code",
   "execution_count": 40,
   "metadata": {},
   "outputs": [],
   "source": [
    "del dtrain['amount_spent_per_room_night_scaled']"
   ]
  },
  {
   "cell_type": "code",
   "execution_count": 41,
   "metadata": {},
   "outputs": [
    {
     "name": "stdout",
     "output_type": "stream",
     "text": [
      "Memory usage after optimization is: 18.90 MB\n",
      "Decreased by 18.3%\n",
      "Memory usage after optimization is: 8.13 MB\n",
      "Decreased by 18.3%\n"
     ]
    }
   ],
   "source": [
    "dtrain=reduce_mem_usage(dtrain)\n",
    "dtest=reduce_mem_usage(dtest)"
   ]
  },
  {
   "cell_type": "code",
   "execution_count": 42,
   "metadata": {},
   "outputs": [],
   "source": [
    "temp=dtrain.append(dtest)\n",
    "xgdata=pd.get_dummies(temp)"
   ]
  },
  {
   "cell_type": "code",
   "execution_count": 43,
   "metadata": {},
   "outputs": [],
   "source": [
    "xgtrain=xgdata.iloc[:dtrain.shape[0],:]\n",
    "xgtest=xgdata.iloc[dtrain.shape[0]:,:]"
   ]
  },
  {
   "cell_type": "code",
   "execution_count": 44,
   "metadata": {},
   "outputs": [
    {
     "name": "stdout",
     "output_type": "stream",
     "text": [
      "(146765, 312)\n",
      "(341424, 312)\n"
     ]
    }
   ],
   "source": [
    "print(xgtest.shape)\n",
    "print(xgtrain.shape)"
   ]
  },
  {
   "cell_type": "code",
   "execution_count": 45,
   "metadata": {},
   "outputs": [],
   "source": [
    "from scipy.sparse import csr_matrix\n",
    "xgtrain=csr_matrix(xgtrain)\n",
    "xgtest=csr_matrix(xgtest)"
   ]
  },
  {
   "cell_type": "code",
   "execution_count": 46,
   "metadata": {},
   "outputs": [
    {
     "data": {
      "text/plain": [
       "(146765, 312)"
      ]
     },
     "execution_count": 46,
     "metadata": {},
     "output_type": "execute_result"
    }
   ],
   "source": [
    "xgtest.shape"
   ]
  },
  {
   "cell_type": "markdown",
   "metadata": {},
   "source": [
    "from sklearn.model_selection import train_test_split\n",
    "X_train, X_val, y_train, y_val = train_test_split(xgtrain, Y, train_size=0.7, random_state=1234)\n",
    "from xgboost import XGBClassifier\n",
    "model_def=XGBClassifier()\n",
    "model_def.fit(X_train ,y_train)\n",
    "pred_def=model_def.predict(X_val)\n",
    "RMSE(y_val, pred_def)"
   ]
  },
  {
   "cell_type": "markdown",
   "metadata": {},
   "source": [
    "dtrain.iloc[:,0].head()"
   ]
  },
  {
   "cell_type": "code",
   "execution_count": 47,
   "metadata": {},
   "outputs": [
    {
     "name": "stderr",
     "output_type": "stream",
     "text": [
      "D:\\Users\\Vikas\\Anaconda3\\lib\\site-packages\\sklearn\\model_selection\\_split.py:2179: FutureWarning: From version 0.21, test_size will always complement train_size unless both are specified.\n",
      "  FutureWarning)\n"
     ]
    }
   ],
   "source": [
    "from sklearn.model_selection import train_test_split\n",
    "X_train, X_val, y_train, y_val = train_test_split(xgtrain, Y, train_size=0.7, random_state=1234)"
   ]
  },
  {
   "cell_type": "code",
   "execution_count": 48,
   "metadata": {},
   "outputs": [],
   "source": [
    "from sklearn.metrics import mean_squared_error\n",
    "from math import sqrt\n",
    "def RMSE(y_val,preds):\n",
    "    rms = sqrt(mean_squared_error(y_val, preds))\n",
    "    return rms"
   ]
  },
  {
   "cell_type": "code",
   "execution_count": 49,
   "metadata": {},
   "outputs": [
    {
     "name": "stderr",
     "output_type": "stream",
     "text": [
      "D:\\Users\\Vikas\\Anaconda3\\lib\\site-packages\\numpy\\core\\_methods.py:36: RuntimeWarning: overflow encountered in reduce\n",
      "  return umr_sum(a, axis, dtype, out, keepdims, initial)\n"
     ]
    },
    {
     "data": {
      "text/plain": [
       "1.0010497385492498"
      ]
     },
     "execution_count": 49,
     "metadata": {},
     "output_type": "execute_result"
    }
   ],
   "source": [
    "import lightgbm as lgb\n",
    "params = {'reg_alpha': 4.75,\n",
    "          'reg_lambda': 1.45,\n",
    "          'min_child_samples':340,\n",
    "          'num_leaves': 8,\n",
    "          'learning_rate': 0.1,\n",
    "          'metric' : 'l2_root'}\n",
    "d_train = lgb.Dataset(X_train, label=y_train)\n",
    "d_valid = lgb.Dataset(X_val, label=y_val)\n",
    "watchlist = [d_valid]\n",
    "n_estimators = 20000\n",
    "model=lgb.train(params, d_train, n_estimators, watchlist, verbose_eval=0)\n",
    "preds = model.predict(X_val)\n",
    "RMSE(y_val,preds)"
   ]
  },
  {
   "cell_type": "code",
   "execution_count": 50,
   "metadata": {},
   "outputs": [],
   "source": [
    "sub10=model.predict(xgtest)\n",
    "pd.DataFrame(sub10).to_csv('Sub10.csv')"
   ]
  }
 ],
 "metadata": {
  "kernelspec": {
   "display_name": "Python 3",
   "language": "python",
   "name": "python3"
  },
  "language_info": {
   "codemirror_mode": {
    "name": "ipython",
    "version": 3
   },
   "file_extension": ".py",
   "mimetype": "text/x-python",
   "name": "python",
   "nbconvert_exporter": "python",
   "pygments_lexer": "ipython3",
   "version": "3.6.5"
  }
 },
 "nbformat": 4,
 "nbformat_minor": 2
}
